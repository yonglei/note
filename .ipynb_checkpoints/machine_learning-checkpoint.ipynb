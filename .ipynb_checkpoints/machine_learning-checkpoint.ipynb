{
 "metadata": {
  "name": "",
  "signature": "sha256:7f78be35504e4a1343c255973afd23afc33c3d88f61d35af6c05e80a33c41597"
 },
 "nbformat": 3,
 "nbformat_minor": 0,
 "worksheets": [
  {
   "cells": [
    {
     "cell_type": "code",
     "collapsed": false,
     "input": [
      "from IPython.display import display_pretty, display_html, display_jpeg, display_png, display_json, display_latex, display_svg"
     ],
     "language": "python",
     "metadata": {},
     "outputs": [],
     "prompt_number": 2
    },
    {
     "cell_type": "markdown",
     "metadata": {},
     "source": [
      "OpenCV \u4e2d\u7684\u673a\u5668\u5b66\u4e60\n",
      "\n",
      "\u57fa\u672c\u6982\u5ff5\n",
      "=======\n",
      "1. \u4ec0\u4e48\u662f\u673a\u5668\u5b66\u4e60\n",
      "    OpenCV\u4e2d\u7684\u673a\u5668\u5b66\u4e60\u53ea\u6d89\u53ca\u7edf\u8ba1\u6027\u673a\u5668\u5b66\u4e60,\u673a\u5668\u5b66\u4e60\u8fd8\u5305\u542b\u5176\u4ed6\u65b9\u9762,\u5982\u8d1d\u53f6\u65af\u7f51\u7edc,\u9a6c\u5c14\u53ef\u592b\u968f\u673a\u573a,\u56fe\u6a21\u578b\u7b49.\n",
      "    \u63a8\u8350\u5b66\u4e60\u8d44\u6599:\n",
      "    \n",
      "2. \u5206\u7c7bthif:\n",
      "    \u673a\u5668\u5b66\u4e60\u7684\u8fc7\u7a0b\u662f,\u5148\u901a\u8fc7\u539f\u59cb\u6570\u636e\u8bad\u7ec3\u5206\u7c7b\u5668(\u76f8\u5f53\u4e8e\u4eba\u8111\u83b7\u53d6\u77e5\u8bc6\u7684\u8fc7\u7a0b).\n",
      "1. \u8bad\u7ec3\u96c6\u548c\u6d4b\u8bd5\u96c6\n",
      "2.  "
     ]
    },
    {
     "cell_type": "code",
     "collapsed": false,
     "input": [],
     "language": "python",
     "metadata": {},
     "outputs": []
    }
   ],
   "metadata": {}
  }
 ]
}